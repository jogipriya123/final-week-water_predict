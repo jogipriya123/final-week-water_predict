{
  "metadata": {
    "kernelspec": {
      "name": "python",
      "display_name": "Python (Pyodide)",
      "language": "python"
    },
    "language_info": {
      "codemirror_mode": {
        "name": "python",
        "version": 3
      },
      "file_extension": ".py",
      "mimetype": "text/x-python",
      "name": "python",
      "nbconvert_exporter": "python",
      "pygments_lexer": "ipython3",
      "version": "3.8"
    }
  },
  "nbformat_minor": 5,
  "nbformat": 4,
  "cells": [
    {
      "id": "7a8a9a02-ded5-4293-8e04-1270547d00d2",
      "cell_type": "code",
      "source": "pip install pandas numpy matplotlib seaborn scikit-learn",
      "metadata": {
        "trusted": true
      },
      "outputs": [],
      "execution_count": null
    },
    {
      "id": "3083c03b-bad1-4007-b65e-6ee01ada59a6",
      "cell_type": "code",
      "source": "import pandas as pd # data manipulation\nimport numpy as np # numerical python - linear algebra",
      "metadata": {
        "trusted": true
      },
      "outputs": [],
      "execution_count": 3
    },
    {
      "id": "42a8fe31-dd9a-4e5f-a263-015811d9e736",
      "cell_type": "code",
      "source": "from sklearn.multioutput import MultiOutputRegressor\nfrom sklearn.ensemble import RandomForestRegressor\nfrom sklearn.model_selection import train_test_split\nfrom sklearn.metrics import mean_squared_error, r2_score",
      "metadata": {
        "trusted": true
      },
      "outputs": [],
      "execution_count": 4
    },
    {
      "id": "11f4a605-4ee0-43f9-b810-df7f4bd0869a",
      "cell_type": "code",
      "source": "df = pd.read_csv('water data.csv', sep=';')\ndf",
      "metadata": {
        "trusted": true
      },
      "outputs": [
        {
          "execution_count": 5,
          "output_type": "execute_result",
          "data": {
            "text/plain": "      id        date    NH4  BSK5  Suspended     O2    NO3    NO2     SO4  \\\n0      1  17.02.2000  0.330  2.77       12.0  12.30   9.50  0.057  154.00   \n1      1  11.05.2000  0.044  3.00       51.6  14.61  17.75  0.034  352.00   \n2      1  11.09.2000  0.032  2.10       24.5   9.87  13.80  0.173  416.00   \n3      1  13.12.2000  0.170  2.23       35.6  12.40  17.13  0.099  275.20   \n4      1  02.03.2001  0.000  3.03       48.8  14.69  10.00  0.065  281.60   \n...   ..         ...    ...   ...        ...    ...    ...    ...     ...   \n2856  22  06.10.2020  0.046  2.69        3.6   8.28   3.80  0.038  160.00   \n2857  22  27.10.2020  0.000  1.52        0.5  11.26   0.56  0.031  147.20   \n2858  22  03.12.2020  0.034  0.29        0.8  11.09   2.58  0.042  209.92   \n2859  22  12.01.2021  0.000  2.10        0.0  14.31   3.94  0.034  121.60   \n2860  22  10.02.2021  0.000  1.78        0.0  14.30   6.30  0.033  134.40   \n\n        PO4       CL  \n0     0.454   289.50  \n1     0.090  1792.00  \n2     0.200  2509.00  \n3     0.377  1264.00  \n4     0.134  1462.00  \n...     ...      ...  \n2856  0.726    77.85  \n2857  0.634    71.95  \n2858  0.484    61.17  \n2859  0.424    63.49  \n2860  0.582    66.31  \n\n[2861 rows x 11 columns]",
            "text/html": "<div>\n<style scoped>\n    .dataframe tbody tr th:only-of-type {\n        vertical-align: middle;\n    }\n\n    .dataframe tbody tr th {\n        vertical-align: top;\n    }\n\n    .dataframe thead th {\n        text-align: right;\n    }\n</style>\n<table border=\"1\" class=\"dataframe\">\n  <thead>\n    <tr style=\"text-align: right;\">\n      <th></th>\n      <th>id</th>\n      <th>date</th>\n      <th>NH4</th>\n      <th>BSK5</th>\n      <th>Suspended</th>\n      <th>O2</th>\n      <th>NO3</th>\n      <th>NO2</th>\n      <th>SO4</th>\n      <th>PO4</th>\n      <th>CL</th>\n    </tr>\n  </thead>\n  <tbody>\n    <tr>\n      <th>0</th>\n      <td>1</td>\n      <td>17.02.2000</td>\n      <td>0.330</td>\n      <td>2.77</td>\n      <td>12.0</td>\n      <td>12.30</td>\n      <td>9.50</td>\n      <td>0.057</td>\n      <td>154.00</td>\n      <td>0.454</td>\n      <td>289.50</td>\n    </tr>\n    <tr>\n      <th>1</th>\n      <td>1</td>\n      <td>11.05.2000</td>\n      <td>0.044</td>\n      <td>3.00</td>\n      <td>51.6</td>\n      <td>14.61</td>\n      <td>17.75</td>\n      <td>0.034</td>\n      <td>352.00</td>\n      <td>0.090</td>\n      <td>1792.00</td>\n    </tr>\n    <tr>\n      <th>2</th>\n      <td>1</td>\n      <td>11.09.2000</td>\n      <td>0.032</td>\n      <td>2.10</td>\n      <td>24.5</td>\n      <td>9.87</td>\n      <td>13.80</td>\n      <td>0.173</td>\n      <td>416.00</td>\n      <td>0.200</td>\n      <td>2509.00</td>\n    </tr>\n    <tr>\n      <th>3</th>\n      <td>1</td>\n      <td>13.12.2000</td>\n      <td>0.170</td>\n      <td>2.23</td>\n      <td>35.6</td>\n      <td>12.40</td>\n      <td>17.13</td>\n      <td>0.099</td>\n      <td>275.20</td>\n      <td>0.377</td>\n      <td>1264.00</td>\n    </tr>\n    <tr>\n      <th>4</th>\n      <td>1</td>\n      <td>02.03.2001</td>\n      <td>0.000</td>\n      <td>3.03</td>\n      <td>48.8</td>\n      <td>14.69</td>\n      <td>10.00</td>\n      <td>0.065</td>\n      <td>281.60</td>\n      <td>0.134</td>\n      <td>1462.00</td>\n    </tr>\n    <tr>\n      <th>...</th>\n      <td>...</td>\n      <td>...</td>\n      <td>...</td>\n      <td>...</td>\n      <td>...</td>\n      <td>...</td>\n      <td>...</td>\n      <td>...</td>\n      <td>...</td>\n      <td>...</td>\n      <td>...</td>\n    </tr>\n    <tr>\n      <th>2856</th>\n      <td>22</td>\n      <td>06.10.2020</td>\n      <td>0.046</td>\n      <td>2.69</td>\n      <td>3.6</td>\n      <td>8.28</td>\n      <td>3.80</td>\n      <td>0.038</td>\n      <td>160.00</td>\n      <td>0.726</td>\n      <td>77.85</td>\n    </tr>\n    <tr>\n      <th>2857</th>\n      <td>22</td>\n      <td>27.10.2020</td>\n      <td>0.000</td>\n      <td>1.52</td>\n      <td>0.5</td>\n      <td>11.26</td>\n      <td>0.56</td>\n      <td>0.031</td>\n      <td>147.20</td>\n      <td>0.634</td>\n      <td>71.95</td>\n    </tr>\n    <tr>\n      <th>2858</th>\n      <td>22</td>\n      <td>03.12.2020</td>\n      <td>0.034</td>\n      <td>0.29</td>\n      <td>0.8</td>\n      <td>11.09</td>\n      <td>2.58</td>\n      <td>0.042</td>\n      <td>209.92</td>\n      <td>0.484</td>\n      <td>61.17</td>\n    </tr>\n    <tr>\n      <th>2859</th>\n      <td>22</td>\n      <td>12.01.2021</td>\n      <td>0.000</td>\n      <td>2.10</td>\n      <td>0.0</td>\n      <td>14.31</td>\n      <td>3.94</td>\n      <td>0.034</td>\n      <td>121.60</td>\n      <td>0.424</td>\n      <td>63.49</td>\n    </tr>\n    <tr>\n      <th>2860</th>\n      <td>22</td>\n      <td>10.02.2021</td>\n      <td>0.000</td>\n      <td>1.78</td>\n      <td>0.0</td>\n      <td>14.30</td>\n      <td>6.30</td>\n      <td>0.033</td>\n      <td>134.40</td>\n      <td>0.582</td>\n      <td>66.31</td>\n    </tr>\n  </tbody>\n</table>\n<p>2861 rows × 11 columns</p>\n</div>"
          },
          "metadata": {}
        }
      ],
      "execution_count": 5
    },
    {
      "id": "d880f362-58ca-43e0-8fc9-61ba00b0ab19",
      "cell_type": "code",
      "source": "df.info() ",
      "metadata": {
        "trusted": true
      },
      "outputs": [
        {
          "name": "stdout",
          "output_type": "stream",
          "text": "<class 'pandas.core.frame.DataFrame'>\nRangeIndex: 2861 entries, 0 to 2860\nData columns (total 11 columns):\n #   Column     Non-Null Count  Dtype  \n---  ------     --------------  -----  \n 0   id         2861 non-null   int64  \n 1   date       2861 non-null   object \n 2   NH4        2858 non-null   float64\n 3   BSK5       2860 non-null   float64\n 4   Suspended  2845 non-null   float64\n 5   O2         2858 non-null   float64\n 6   NO3        2860 non-null   float64\n 7   NO2        2858 non-null   float64\n 8   SO4        2812 non-null   float64\n 9   PO4        2833 non-null   float64\n 10  CL         2812 non-null   float64\ndtypes: float64(9), int64(1), object(1)\nmemory usage: 234.8+ KB\n"
        }
      ],
      "execution_count": 6
    },
    {
      "id": "a364a21c-d32d-46fd-b5df-4b3d3fba2d93",
      "cell_type": "code",
      "source": "df.describe().T",
      "metadata": {
        "trusted": true
      },
      "outputs": [
        {
          "execution_count": 7,
          "output_type": "execute_result",
          "data": {
            "text/plain": "            count       mean         std   min      25%     50%       75%  \\\nid         2861.0  12.397064    6.084226  1.00   8.0000  14.000  16.00000   \nNH4        2858.0   0.758734    2.486247  0.00   0.0800   0.220   0.50000   \nBSK5       2860.0   4.316182    2.973997  0.00   2.1600   3.800   5.80000   \nSuspended  2845.0  12.931905   16.543097  0.00   6.0000  10.000  15.00000   \nO2         2858.0   9.508902    4.428260  0.00   7.0925   8.995  11.52000   \nNO3        2860.0   4.316846    6.881188  0.00   1.3900   2.800   5.58250   \nNO2        2858.0   0.246128    2.182777  0.00   0.0300   0.059   0.12575   \nSO4        2812.0  59.362313   96.582641  0.00  27.0525  37.800  64.64000   \nPO4        2833.0   0.418626    0.771326  0.00   0.1300   0.270   0.47000   \nCL         2812.0  93.731991  394.512184  0.02  26.8000  33.900  45.60750   \n\n                max  \nid           22.000  \nNH4          39.427  \nBSK5         50.900  \nSuspended   595.000  \nO2           90.000  \nNO3         133.400  \nNO2         109.000  \nSO4        3573.400  \nPO4          13.879  \nCL         5615.280  ",
            "text/html": "<div>\n<style scoped>\n    .dataframe tbody tr th:only-of-type {\n        vertical-align: middle;\n    }\n\n    .dataframe tbody tr th {\n        vertical-align: top;\n    }\n\n    .dataframe thead th {\n        text-align: right;\n    }\n</style>\n<table border=\"1\" class=\"dataframe\">\n  <thead>\n    <tr style=\"text-align: right;\">\n      <th></th>\n      <th>count</th>\n      <th>mean</th>\n      <th>std</th>\n      <th>min</th>\n      <th>25%</th>\n      <th>50%</th>\n      <th>75%</th>\n      <th>max</th>\n    </tr>\n  </thead>\n  <tbody>\n    <tr>\n      <th>id</th>\n      <td>2861.0</td>\n      <td>12.397064</td>\n      <td>6.084226</td>\n      <td>1.00</td>\n      <td>8.0000</td>\n      <td>14.000</td>\n      <td>16.00000</td>\n      <td>22.000</td>\n    </tr>\n    <tr>\n      <th>NH4</th>\n      <td>2858.0</td>\n      <td>0.758734</td>\n      <td>2.486247</td>\n      <td>0.00</td>\n      <td>0.0800</td>\n      <td>0.220</td>\n      <td>0.50000</td>\n      <td>39.427</td>\n    </tr>\n    <tr>\n      <th>BSK5</th>\n      <td>2860.0</td>\n      <td>4.316182</td>\n      <td>2.973997</td>\n      <td>0.00</td>\n      <td>2.1600</td>\n      <td>3.800</td>\n      <td>5.80000</td>\n      <td>50.900</td>\n    </tr>\n    <tr>\n      <th>Suspended</th>\n      <td>2845.0</td>\n      <td>12.931905</td>\n      <td>16.543097</td>\n      <td>0.00</td>\n      <td>6.0000</td>\n      <td>10.000</td>\n      <td>15.00000</td>\n      <td>595.000</td>\n    </tr>\n    <tr>\n      <th>O2</th>\n      <td>2858.0</td>\n      <td>9.508902</td>\n      <td>4.428260</td>\n      <td>0.00</td>\n      <td>7.0925</td>\n      <td>8.995</td>\n      <td>11.52000</td>\n      <td>90.000</td>\n    </tr>\n    <tr>\n      <th>NO3</th>\n      <td>2860.0</td>\n      <td>4.316846</td>\n      <td>6.881188</td>\n      <td>0.00</td>\n      <td>1.3900</td>\n      <td>2.800</td>\n      <td>5.58250</td>\n      <td>133.400</td>\n    </tr>\n    <tr>\n      <th>NO2</th>\n      <td>2858.0</td>\n      <td>0.246128</td>\n      <td>2.182777</td>\n      <td>0.00</td>\n      <td>0.0300</td>\n      <td>0.059</td>\n      <td>0.12575</td>\n      <td>109.000</td>\n    </tr>\n    <tr>\n      <th>SO4</th>\n      <td>2812.0</td>\n      <td>59.362313</td>\n      <td>96.582641</td>\n      <td>0.00</td>\n      <td>27.0525</td>\n      <td>37.800</td>\n      <td>64.64000</td>\n      <td>3573.400</td>\n    </tr>\n    <tr>\n      <th>PO4</th>\n      <td>2833.0</td>\n      <td>0.418626</td>\n      <td>0.771326</td>\n      <td>0.00</td>\n      <td>0.1300</td>\n      <td>0.270</td>\n      <td>0.47000</td>\n      <td>13.879</td>\n    </tr>\n    <tr>\n      <th>CL</th>\n      <td>2812.0</td>\n      <td>93.731991</td>\n      <td>394.512184</td>\n      <td>0.02</td>\n      <td>26.8000</td>\n      <td>33.900</td>\n      <td>45.60750</td>\n      <td>5615.280</td>\n    </tr>\n  </tbody>\n</table>\n</div>"
          },
          "metadata": {}
        }
      ],
      "execution_count": 7
    },
    {
      "id": "235c5dd9-3dc3-491b-be4c-a7ee15dc1ac4",
      "cell_type": "code",
      "source": "df.isnull().sum()",
      "metadata": {
        "trusted": true
      },
      "outputs": [
        {
          "execution_count": 8,
          "output_type": "execute_result",
          "data": {
            "text/plain": "id            0\ndate          0\nNH4           3\nBSK5          1\nSuspended    16\nO2            3\nNO3           1\nNO2           3\nSO4          49\nPO4          28\nCL           49\ndtype: int64"
          },
          "metadata": {}
        }
      ],
      "execution_count": 8
    },
    {
      "id": "12a83b52-796e-4a9b-b2dc-261c35bf6b6d",
      "cell_type": "code",
      "source": "df['date'] = pd.to_datetime(df['date'], format='%d.%m.%Y')\ndf",
      "metadata": {
        "trusted": true
      },
      "outputs": [
        {
          "execution_count": 9,
          "output_type": "execute_result",
          "data": {
            "text/plain": "      id       date    NH4  BSK5  Suspended     O2    NO3    NO2     SO4  \\\n0      1 2000-02-17  0.330  2.77       12.0  12.30   9.50  0.057  154.00   \n1      1 2000-05-11  0.044  3.00       51.6  14.61  17.75  0.034  352.00   \n2      1 2000-09-11  0.032  2.10       24.5   9.87  13.80  0.173  416.00   \n3      1 2000-12-13  0.170  2.23       35.6  12.40  17.13  0.099  275.20   \n4      1 2001-03-02  0.000  3.03       48.8  14.69  10.00  0.065  281.60   \n...   ..        ...    ...   ...        ...    ...    ...    ...     ...   \n2856  22 2020-10-06  0.046  2.69        3.6   8.28   3.80  0.038  160.00   \n2857  22 2020-10-27  0.000  1.52        0.5  11.26   0.56  0.031  147.20   \n2858  22 2020-12-03  0.034  0.29        0.8  11.09   2.58  0.042  209.92   \n2859  22 2021-01-12  0.000  2.10        0.0  14.31   3.94  0.034  121.60   \n2860  22 2021-02-10  0.000  1.78        0.0  14.30   6.30  0.033  134.40   \n\n        PO4       CL  \n0     0.454   289.50  \n1     0.090  1792.00  \n2     0.200  2509.00  \n3     0.377  1264.00  \n4     0.134  1462.00  \n...     ...      ...  \n2856  0.726    77.85  \n2857  0.634    71.95  \n2858  0.484    61.17  \n2859  0.424    63.49  \n2860  0.582    66.31  \n\n[2861 rows x 11 columns]",
            "text/html": "<div>\n<style scoped>\n    .dataframe tbody tr th:only-of-type {\n        vertical-align: middle;\n    }\n\n    .dataframe tbody tr th {\n        vertical-align: top;\n    }\n\n    .dataframe thead th {\n        text-align: right;\n    }\n</style>\n<table border=\"1\" class=\"dataframe\">\n  <thead>\n    <tr style=\"text-align: right;\">\n      <th></th>\n      <th>id</th>\n      <th>date</th>\n      <th>NH4</th>\n      <th>BSK5</th>\n      <th>Suspended</th>\n      <th>O2</th>\n      <th>NO3</th>\n      <th>NO2</th>\n      <th>SO4</th>\n      <th>PO4</th>\n      <th>CL</th>\n    </tr>\n  </thead>\n  <tbody>\n    <tr>\n      <th>0</th>\n      <td>1</td>\n      <td>2000-02-17</td>\n      <td>0.330</td>\n      <td>2.77</td>\n      <td>12.0</td>\n      <td>12.30</td>\n      <td>9.50</td>\n      <td>0.057</td>\n      <td>154.00</td>\n      <td>0.454</td>\n      <td>289.50</td>\n    </tr>\n    <tr>\n      <th>1</th>\n      <td>1</td>\n      <td>2000-05-11</td>\n      <td>0.044</td>\n      <td>3.00</td>\n      <td>51.6</td>\n      <td>14.61</td>\n      <td>17.75</td>\n      <td>0.034</td>\n      <td>352.00</td>\n      <td>0.090</td>\n      <td>1792.00</td>\n    </tr>\n    <tr>\n      <th>2</th>\n      <td>1</td>\n      <td>2000-09-11</td>\n      <td>0.032</td>\n      <td>2.10</td>\n      <td>24.5</td>\n      <td>9.87</td>\n      <td>13.80</td>\n      <td>0.173</td>\n      <td>416.00</td>\n      <td>0.200</td>\n      <td>2509.00</td>\n    </tr>\n    <tr>\n      <th>3</th>\n      <td>1</td>\n      <td>2000-12-13</td>\n      <td>0.170</td>\n      <td>2.23</td>\n      <td>35.6</td>\n      <td>12.40</td>\n      <td>17.13</td>\n      <td>0.099</td>\n      <td>275.20</td>\n      <td>0.377</td>\n      <td>1264.00</td>\n    </tr>\n    <tr>\n      <th>4</th>\n      <td>1</td>\n      <td>2001-03-02</td>\n      <td>0.000</td>\n      <td>3.03</td>\n      <td>48.8</td>\n      <td>14.69</td>\n      <td>10.00</td>\n      <td>0.065</td>\n      <td>281.60</td>\n      <td>0.134</td>\n      <td>1462.00</td>\n    </tr>\n    <tr>\n      <th>...</th>\n      <td>...</td>\n      <td>...</td>\n      <td>...</td>\n      <td>...</td>\n      <td>...</td>\n      <td>...</td>\n      <td>...</td>\n      <td>...</td>\n      <td>...</td>\n      <td>...</td>\n      <td>...</td>\n    </tr>\n    <tr>\n      <th>2856</th>\n      <td>22</td>\n      <td>2020-10-06</td>\n      <td>0.046</td>\n      <td>2.69</td>\n      <td>3.6</td>\n      <td>8.28</td>\n      <td>3.80</td>\n      <td>0.038</td>\n      <td>160.00</td>\n      <td>0.726</td>\n      <td>77.85</td>\n    </tr>\n    <tr>\n      <th>2857</th>\n      <td>22</td>\n      <td>2020-10-27</td>\n      <td>0.000</td>\n      <td>1.52</td>\n      <td>0.5</td>\n      <td>11.26</td>\n      <td>0.56</td>\n      <td>0.031</td>\n      <td>147.20</td>\n      <td>0.634</td>\n      <td>71.95</td>\n    </tr>\n    <tr>\n      <th>2858</th>\n      <td>22</td>\n      <td>2020-12-03</td>\n      <td>0.034</td>\n      <td>0.29</td>\n      <td>0.8</td>\n      <td>11.09</td>\n      <td>2.58</td>\n      <td>0.042</td>\n      <td>209.92</td>\n      <td>0.484</td>\n      <td>61.17</td>\n    </tr>\n    <tr>\n      <th>2859</th>\n      <td>22</td>\n      <td>2021-01-12</td>\n      <td>0.000</td>\n      <td>2.10</td>\n      <td>0.0</td>\n      <td>14.31</td>\n      <td>3.94</td>\n      <td>0.034</td>\n      <td>121.60</td>\n      <td>0.424</td>\n      <td>63.49</td>\n    </tr>\n    <tr>\n      <th>2860</th>\n      <td>22</td>\n      <td>2021-02-10</td>\n      <td>0.000</td>\n      <td>1.78</td>\n      <td>0.0</td>\n      <td>14.30</td>\n      <td>6.30</td>\n      <td>0.033</td>\n      <td>134.40</td>\n      <td>0.582</td>\n      <td>66.31</td>\n    </tr>\n  </tbody>\n</table>\n<p>2861 rows × 11 columns</p>\n</div>"
          },
          "metadata": {}
        }
      ],
      "execution_count": 9
    },
    {
      "id": "f79d6d4e-1ee8-444e-bee7-1801470de2bf",
      "cell_type": "code",
      "source": "df.info()",
      "metadata": {
        "trusted": true
      },
      "outputs": [
        {
          "name": "stdout",
          "output_type": "stream",
          "text": "<class 'pandas.core.frame.DataFrame'>\nRangeIndex: 2861 entries, 0 to 2860\nData columns (total 11 columns):\n #   Column     Non-Null Count  Dtype         \n---  ------     --------------  -----         \n 0   id         2861 non-null   int64         \n 1   date       2861 non-null   datetime64[ns]\n 2   NH4        2858 non-null   float64       \n 3   BSK5       2860 non-null   float64       \n 4   Suspended  2845 non-null   float64       \n 5   O2         2858 non-null   float64       \n 6   NO3        2860 non-null   float64       \n 7   NO2        2858 non-null   float64       \n 8   SO4        2812 non-null   float64       \n 9   PO4        2833 non-null   float64       \n 10  CL         2812 non-null   float64       \ndtypes: datetime64[ns](1), float64(9), int64(1)\nmemory usage: 245.9 KB\n"
        }
      ],
      "execution_count": 10
    },
    {
      "id": "81960857-4da8-47ce-a144-e7518794b92d",
      "cell_type": "code",
      "source": "df = df.sort_values(by=['id', 'date'])\ndf.head()",
      "metadata": {
        "trusted": true
      },
      "outputs": [
        {
          "execution_count": 11,
          "output_type": "execute_result",
          "data": {
            "text/plain": "   id       date    NH4  BSK5  Suspended     O2    NO3    NO2    SO4    PO4  \\\n0   1 2000-02-17  0.330  2.77       12.0  12.30   9.50  0.057  154.0  0.454   \n1   1 2000-05-11  0.044  3.00       51.6  14.61  17.75  0.034  352.0  0.090   \n2   1 2000-09-11  0.032  2.10       24.5   9.87  13.80  0.173  416.0  0.200   \n3   1 2000-12-13  0.170  2.23       35.6  12.40  17.13  0.099  275.2  0.377   \n4   1 2001-03-02  0.000  3.03       48.8  14.69  10.00  0.065  281.6  0.134   \n\n       CL  \n0   289.5  \n1  1792.0  \n2  2509.0  \n3  1264.0  \n4  1462.0  ",
            "text/html": "<div>\n<style scoped>\n    .dataframe tbody tr th:only-of-type {\n        vertical-align: middle;\n    }\n\n    .dataframe tbody tr th {\n        vertical-align: top;\n    }\n\n    .dataframe thead th {\n        text-align: right;\n    }\n</style>\n<table border=\"1\" class=\"dataframe\">\n  <thead>\n    <tr style=\"text-align: right;\">\n      <th></th>\n      <th>id</th>\n      <th>date</th>\n      <th>NH4</th>\n      <th>BSK5</th>\n      <th>Suspended</th>\n      <th>O2</th>\n      <th>NO3</th>\n      <th>NO2</th>\n      <th>SO4</th>\n      <th>PO4</th>\n      <th>CL</th>\n    </tr>\n  </thead>\n  <tbody>\n    <tr>\n      <th>0</th>\n      <td>1</td>\n      <td>2000-02-17</td>\n      <td>0.330</td>\n      <td>2.77</td>\n      <td>12.0</td>\n      <td>12.30</td>\n      <td>9.50</td>\n      <td>0.057</td>\n      <td>154.0</td>\n      <td>0.454</td>\n      <td>289.5</td>\n    </tr>\n    <tr>\n      <th>1</th>\n      <td>1</td>\n      <td>2000-05-11</td>\n      <td>0.044</td>\n      <td>3.00</td>\n      <td>51.6</td>\n      <td>14.61</td>\n      <td>17.75</td>\n      <td>0.034</td>\n      <td>352.0</td>\n      <td>0.090</td>\n      <td>1792.0</td>\n    </tr>\n    <tr>\n      <th>2</th>\n      <td>1</td>\n      <td>2000-09-11</td>\n      <td>0.032</td>\n      <td>2.10</td>\n      <td>24.5</td>\n      <td>9.87</td>\n      <td>13.80</td>\n      <td>0.173</td>\n      <td>416.0</td>\n      <td>0.200</td>\n      <td>2509.0</td>\n    </tr>\n    <tr>\n      <th>3</th>\n      <td>1</td>\n      <td>2000-12-13</td>\n      <td>0.170</td>\n      <td>2.23</td>\n      <td>35.6</td>\n      <td>12.40</td>\n      <td>17.13</td>\n      <td>0.099</td>\n      <td>275.2</td>\n      <td>0.377</td>\n      <td>1264.0</td>\n    </tr>\n    <tr>\n      <th>4</th>\n      <td>1</td>\n      <td>2001-03-02</td>\n      <td>0.000</td>\n      <td>3.03</td>\n      <td>48.8</td>\n      <td>14.69</td>\n      <td>10.00</td>\n      <td>0.065</td>\n      <td>281.6</td>\n      <td>0.134</td>\n      <td>1462.0</td>\n    </tr>\n  </tbody>\n</table>\n</div>"
          },
          "metadata": {}
        }
      ],
      "execution_count": 11
    },
    {
      "id": "42ce187d-4b36-4ad0-b48c-a2f4d2966644",
      "cell_type": "code",
      "source": "df['year'] = df['date'].dt.year\ndf['month'] = df['date'].dt.month",
      "metadata": {
        "trusted": true
      },
      "outputs": [],
      "execution_count": 12
    },
    {
      "id": "f521b6b8-6331-4b81-bce5-cbafe4167a0c",
      "cell_type": "code",
      "source": "df.head()",
      "metadata": {
        "trusted": true
      },
      "outputs": [
        {
          "execution_count": 13,
          "output_type": "execute_result",
          "data": {
            "text/plain": "   id       date    NH4  BSK5  Suspended     O2    NO3    NO2    SO4    PO4  \\\n0   1 2000-02-17  0.330  2.77       12.0  12.30   9.50  0.057  154.0  0.454   \n1   1 2000-05-11  0.044  3.00       51.6  14.61  17.75  0.034  352.0  0.090   \n2   1 2000-09-11  0.032  2.10       24.5   9.87  13.80  0.173  416.0  0.200   \n3   1 2000-12-13  0.170  2.23       35.6  12.40  17.13  0.099  275.2  0.377   \n4   1 2001-03-02  0.000  3.03       48.8  14.69  10.00  0.065  281.6  0.134   \n\n       CL  year  month  \n0   289.5  2000      2  \n1  1792.0  2000      5  \n2  2509.0  2000      9  \n3  1264.0  2000     12  \n4  1462.0  2001      3  ",
            "text/html": "<div>\n<style scoped>\n    .dataframe tbody tr th:only-of-type {\n        vertical-align: middle;\n    }\n\n    .dataframe tbody tr th {\n        vertical-align: top;\n    }\n\n    .dataframe thead th {\n        text-align: right;\n    }\n</style>\n<table border=\"1\" class=\"dataframe\">\n  <thead>\n    <tr style=\"text-align: right;\">\n      <th></th>\n      <th>id</th>\n      <th>date</th>\n      <th>NH4</th>\n      <th>BSK5</th>\n      <th>Suspended</th>\n      <th>O2</th>\n      <th>NO3</th>\n      <th>NO2</th>\n      <th>SO4</th>\n      <th>PO4</th>\n      <th>CL</th>\n      <th>year</th>\n      <th>month</th>\n    </tr>\n  </thead>\n  <tbody>\n    <tr>\n      <th>0</th>\n      <td>1</td>\n      <td>2000-02-17</td>\n      <td>0.330</td>\n      <td>2.77</td>\n      <td>12.0</td>\n      <td>12.30</td>\n      <td>9.50</td>\n      <td>0.057</td>\n      <td>154.0</td>\n      <td>0.454</td>\n      <td>289.5</td>\n      <td>2000</td>\n      <td>2</td>\n    </tr>\n    <tr>\n      <th>1</th>\n      <td>1</td>\n      <td>2000-05-11</td>\n      <td>0.044</td>\n      <td>3.00</td>\n      <td>51.6</td>\n      <td>14.61</td>\n      <td>17.75</td>\n      <td>0.034</td>\n      <td>352.0</td>\n      <td>0.090</td>\n      <td>1792.0</td>\n      <td>2000</td>\n      <td>5</td>\n    </tr>\n    <tr>\n      <th>2</th>\n      <td>1</td>\n      <td>2000-09-11</td>\n      <td>0.032</td>\n      <td>2.10</td>\n      <td>24.5</td>\n      <td>9.87</td>\n      <td>13.80</td>\n      <td>0.173</td>\n      <td>416.0</td>\n      <td>0.200</td>\n      <td>2509.0</td>\n      <td>2000</td>\n      <td>9</td>\n    </tr>\n    <tr>\n      <th>3</th>\n      <td>1</td>\n      <td>2000-12-13</td>\n      <td>0.170</td>\n      <td>2.23</td>\n      <td>35.6</td>\n      <td>12.40</td>\n      <td>17.13</td>\n      <td>0.099</td>\n      <td>275.2</td>\n      <td>0.377</td>\n      <td>1264.0</td>\n      <td>2000</td>\n      <td>12</td>\n    </tr>\n    <tr>\n      <th>4</th>\n      <td>1</td>\n      <td>2001-03-02</td>\n      <td>0.000</td>\n      <td>3.03</td>\n      <td>48.8</td>\n      <td>14.69</td>\n      <td>10.00</td>\n      <td>0.065</td>\n      <td>281.6</td>\n      <td>0.134</td>\n      <td>1462.0</td>\n      <td>2001</td>\n      <td>3</td>\n    </tr>\n  </tbody>\n</table>\n</div>"
          },
          "metadata": {}
        }
      ],
      "execution_count": 13
    },
    {
      "id": "8c114e54-4a1b-41fe-8332-9ac1aae74ea0",
      "cell_type": "code",
      "source": "df.columns",
      "metadata": {
        "trusted": true
      },
      "outputs": [
        {
          "execution_count": 14,
          "output_type": "execute_result",
          "data": {
            "text/plain": "Index(['id', 'date', 'NH4', 'BSK5', 'Suspended', 'O2', 'NO3', 'NO2', 'SO4',\n       'PO4', 'CL', 'year', 'month'],\n      dtype='object')"
          },
          "metadata": {}
        }
      ],
      "execution_count": 14
    },
    {
      "id": "f0a1eeb7-7f77-4baa-865b-b2ea7f19749d",
      "cell_type": "code",
      "source": "pollutants = ['O2', 'NO3', 'NO2', 'SO4',\n       'PO4', 'CL']",
      "metadata": {
        "trusted": true
      },
      "outputs": [],
      "execution_count": 16
    },
    {
      "id": "3f61335f-61b8-4390-ab8d-79870fdbfb69",
      "cell_type": "code",
      "source": "df = df.dropna(subset=pollutants)\ndf.head()",
      "metadata": {
        "trusted": true
      },
      "outputs": [
        {
          "execution_count": 17,
          "output_type": "execute_result",
          "data": {
            "text/plain": "   id       date    NH4  BSK5  Suspended     O2    NO3    NO2    SO4    PO4  \\\n0   1 2000-02-17  0.330  2.77       12.0  12.30   9.50  0.057  154.0  0.454   \n1   1 2000-05-11  0.044  3.00       51.6  14.61  17.75  0.034  352.0  0.090   \n2   1 2000-09-11  0.032  2.10       24.5   9.87  13.80  0.173  416.0  0.200   \n3   1 2000-12-13  0.170  2.23       35.6  12.40  17.13  0.099  275.2  0.377   \n4   1 2001-03-02  0.000  3.03       48.8  14.69  10.00  0.065  281.6  0.134   \n\n       CL  year  month  \n0   289.5  2000      2  \n1  1792.0  2000      5  \n2  2509.0  2000      9  \n3  1264.0  2000     12  \n4  1462.0  2001      3  ",
            "text/html": "<div>\n<style scoped>\n    .dataframe tbody tr th:only-of-type {\n        vertical-align: middle;\n    }\n\n    .dataframe tbody tr th {\n        vertical-align: top;\n    }\n\n    .dataframe thead th {\n        text-align: right;\n    }\n</style>\n<table border=\"1\" class=\"dataframe\">\n  <thead>\n    <tr style=\"text-align: right;\">\n      <th></th>\n      <th>id</th>\n      <th>date</th>\n      <th>NH4</th>\n      <th>BSK5</th>\n      <th>Suspended</th>\n      <th>O2</th>\n      <th>NO3</th>\n      <th>NO2</th>\n      <th>SO4</th>\n      <th>PO4</th>\n      <th>CL</th>\n      <th>year</th>\n      <th>month</th>\n    </tr>\n  </thead>\n  <tbody>\n    <tr>\n      <th>0</th>\n      <td>1</td>\n      <td>2000-02-17</td>\n      <td>0.330</td>\n      <td>2.77</td>\n      <td>12.0</td>\n      <td>12.30</td>\n      <td>9.50</td>\n      <td>0.057</td>\n      <td>154.0</td>\n      <td>0.454</td>\n      <td>289.5</td>\n      <td>2000</td>\n      <td>2</td>\n    </tr>\n    <tr>\n      <th>1</th>\n      <td>1</td>\n      <td>2000-05-11</td>\n      <td>0.044</td>\n      <td>3.00</td>\n      <td>51.6</td>\n      <td>14.61</td>\n      <td>17.75</td>\n      <td>0.034</td>\n      <td>352.0</td>\n      <td>0.090</td>\n      <td>1792.0</td>\n      <td>2000</td>\n      <td>5</td>\n    </tr>\n    <tr>\n      <th>2</th>\n      <td>1</td>\n      <td>2000-09-11</td>\n      <td>0.032</td>\n      <td>2.10</td>\n      <td>24.5</td>\n      <td>9.87</td>\n      <td>13.80</td>\n      <td>0.173</td>\n      <td>416.0</td>\n      <td>0.200</td>\n      <td>2509.0</td>\n      <td>2000</td>\n      <td>9</td>\n    </tr>\n    <tr>\n      <th>3</th>\n      <td>1</td>\n      <td>2000-12-13</td>\n      <td>0.170</td>\n      <td>2.23</td>\n      <td>35.6</td>\n      <td>12.40</td>\n      <td>17.13</td>\n      <td>0.099</td>\n      <td>275.2</td>\n      <td>0.377</td>\n      <td>1264.0</td>\n      <td>2000</td>\n      <td>12</td>\n    </tr>\n    <tr>\n      <th>4</th>\n      <td>1</td>\n      <td>2001-03-02</td>\n      <td>0.000</td>\n      <td>3.03</td>\n      <td>48.8</td>\n      <td>14.69</td>\n      <td>10.00</td>\n      <td>0.065</td>\n      <td>281.6</td>\n      <td>0.134</td>\n      <td>1462.0</td>\n      <td>2001</td>\n      <td>3</td>\n    </tr>\n  </tbody>\n</table>\n</div>"
          },
          "metadata": {}
        }
      ],
      "execution_count": 17
    },
    {
      "id": "24608e6f-c2b3-455d-801a-be4cf7bd2ee3",
      "cell_type": "code",
      "source": "df.isnull().sum()",
      "metadata": {
        "trusted": true
      },
      "outputs": [
        {
          "execution_count": 18,
          "output_type": "execute_result",
          "data": {
            "text/plain": "id           0\ndate         0\nNH4          2\nBSK5         0\nSuspended    2\nO2           0\nNO3          0\nNO2          0\nSO4          0\nPO4          0\nCL           0\nyear         0\nmonth        0\ndtype: int64"
          },
          "metadata": {}
        }
      ],
      "execution_count": 18
    },
    {
      "id": "2cb89ce7-05d8-4306-b943-2454bea50391",
      "cell_type": "code",
      "source": "X = df[['id', 'year']]\ny = df[pollutants]",
      "metadata": {
        "trusted": true
      },
      "outputs": [],
      "execution_count": 19
    },
    {
      "id": "e98bd7b7-5582-4aa8-81da-d8cd3c1f6f15",
      "cell_type": "code",
      "source": "X_encoded = pd.get_dummies(X, columns=['id'], drop_first=True)",
      "metadata": {
        "trusted": true
      },
      "outputs": [],
      "execution_count": 20
    },
    {
      "id": "030df8d8-073a-4add-add3-b28297386041",
      "cell_type": "code",
      "source": "X_train, X_test, y_train, y_test = train_test_split(\n    X_encoded, y, test_size=0.2, random_state=42\n)",
      "metadata": {
        "trusted": true
      },
      "outputs": [],
      "execution_count": 21
    },
    {
      "id": "0e744c09-a888-4b58-8323-f9e53bf14590",
      "cell_type": "code",
      "source": "model = MultiOutputRegressor(RandomForestRegressor(n_estimators=100, random_state=42))\nmodel.fit(X_train, y_train)",
      "metadata": {
        "trusted": true
      },
      "outputs": [
        {
          "execution_count": 22,
          "output_type": "execute_result",
          "data": {
            "text/plain": "MultiOutputRegressor(estimator=RandomForestRegressor(random_state=42))",
            "text/html": "<style>#sk-container-id-1 {\n  /* Definition of color scheme common for light and dark mode */\n  --sklearn-color-text: #000;\n  --sklearn-color-text-muted: #666;\n  --sklearn-color-line: gray;\n  /* Definition of color scheme for unfitted estimators */\n  --sklearn-color-unfitted-level-0: #fff5e6;\n  --sklearn-color-unfitted-level-1: #f6e4d2;\n  --sklearn-color-unfitted-level-2: #ffe0b3;\n  --sklearn-color-unfitted-level-3: chocolate;\n  /* Definition of color scheme for fitted estimators */\n  --sklearn-color-fitted-level-0: #f0f8ff;\n  --sklearn-color-fitted-level-1: #d4ebff;\n  --sklearn-color-fitted-level-2: #b3dbfd;\n  --sklearn-color-fitted-level-3: cornflowerblue;\n\n  /* Specific color for light theme */\n  --sklearn-color-text-on-default-background: var(--sg-text-color, var(--theme-code-foreground, var(--jp-content-font-color1, black)));\n  --sklearn-color-background: var(--sg-background-color, var(--theme-background, var(--jp-layout-color0, white)));\n  --sklearn-color-border-box: var(--sg-text-color, var(--theme-code-foreground, var(--jp-content-font-color1, black)));\n  --sklearn-color-icon: #696969;\n\n  @media (prefers-color-scheme: dark) {\n    /* Redefinition of color scheme for dark theme */\n    --sklearn-color-text-on-default-background: var(--sg-text-color, var(--theme-code-foreground, var(--jp-content-font-color1, white)));\n    --sklearn-color-background: var(--sg-background-color, var(--theme-background, var(--jp-layout-color0, #111)));\n    --sklearn-color-border-box: var(--sg-text-color, var(--theme-code-foreground, var(--jp-content-font-color1, white)));\n    --sklearn-color-icon: #878787;\n  }\n}\n\n#sk-container-id-1 {\n  color: var(--sklearn-color-text);\n}\n\n#sk-container-id-1 pre {\n  padding: 0;\n}\n\n#sk-container-id-1 input.sk-hidden--visually {\n  border: 0;\n  clip: rect(1px 1px 1px 1px);\n  clip: rect(1px, 1px, 1px, 1px);\n  height: 1px;\n  margin: -1px;\n  overflow: hidden;\n  padding: 0;\n  position: absolute;\n  width: 1px;\n}\n\n#sk-container-id-1 div.sk-dashed-wrapped {\n  border: 1px dashed var(--sklearn-color-line);\n  margin: 0 0.4em 0.5em 0.4em;\n  box-sizing: border-box;\n  padding-bottom: 0.4em;\n  background-color: var(--sklearn-color-background);\n}\n\n#sk-container-id-1 div.sk-container {\n  /* jupyter's `normalize.less` sets `[hidden] { display: none; }`\n     but bootstrap.min.css set `[hidden] { display: none !important; }`\n     so we also need the `!important` here to be able to override the\n     default hidden behavior on the sphinx rendered scikit-learn.org.\n     See: https://github.com/scikit-learn/scikit-learn/issues/21755 */\n  display: inline-block !important;\n  position: relative;\n}\n\n#sk-container-id-1 div.sk-text-repr-fallback {\n  display: none;\n}\n\ndiv.sk-parallel-item,\ndiv.sk-serial,\ndiv.sk-item {\n  /* draw centered vertical line to link estimators */\n  background-image: linear-gradient(var(--sklearn-color-text-on-default-background), var(--sklearn-color-text-on-default-background));\n  background-size: 2px 100%;\n  background-repeat: no-repeat;\n  background-position: center center;\n}\n\n/* Parallel-specific style estimator block */\n\n#sk-container-id-1 div.sk-parallel-item::after {\n  content: \"\";\n  width: 100%;\n  border-bottom: 2px solid var(--sklearn-color-text-on-default-background);\n  flex-grow: 1;\n}\n\n#sk-container-id-1 div.sk-parallel {\n  display: flex;\n  align-items: stretch;\n  justify-content: center;\n  background-color: var(--sklearn-color-background);\n  position: relative;\n}\n\n#sk-container-id-1 div.sk-parallel-item {\n  display: flex;\n  flex-direction: column;\n}\n\n#sk-container-id-1 div.sk-parallel-item:first-child::after {\n  align-self: flex-end;\n  width: 50%;\n}\n\n#sk-container-id-1 div.sk-parallel-item:last-child::after {\n  align-self: flex-start;\n  width: 50%;\n}\n\n#sk-container-id-1 div.sk-parallel-item:only-child::after {\n  width: 0;\n}\n\n/* Serial-specific style estimator block */\n\n#sk-container-id-1 div.sk-serial {\n  display: flex;\n  flex-direction: column;\n  align-items: center;\n  background-color: var(--sklearn-color-background);\n  padding-right: 1em;\n  padding-left: 1em;\n}\n\n\n/* Toggleable style: style used for estimator/Pipeline/ColumnTransformer box that is\nclickable and can be expanded/collapsed.\n- Pipeline and ColumnTransformer use this feature and define the default style\n- Estimators will overwrite some part of the style using the `sk-estimator` class\n*/\n\n/* Pipeline and ColumnTransformer style (default) */\n\n#sk-container-id-1 div.sk-toggleable {\n  /* Default theme specific background. It is overwritten whether we have a\n  specific estimator or a Pipeline/ColumnTransformer */\n  background-color: var(--sklearn-color-background);\n}\n\n/* Toggleable label */\n#sk-container-id-1 label.sk-toggleable__label {\n  cursor: pointer;\n  display: flex;\n  width: 100%;\n  margin-bottom: 0;\n  padding: 0.5em;\n  box-sizing: border-box;\n  text-align: center;\n  align-items: start;\n  justify-content: space-between;\n  gap: 0.5em;\n}\n\n#sk-container-id-1 label.sk-toggleable__label .caption {\n  font-size: 0.6rem;\n  font-weight: lighter;\n  color: var(--sklearn-color-text-muted);\n}\n\n#sk-container-id-1 label.sk-toggleable__label-arrow:before {\n  /* Arrow on the left of the label */\n  content: \"▸\";\n  float: left;\n  margin-right: 0.25em;\n  color: var(--sklearn-color-icon);\n}\n\n#sk-container-id-1 label.sk-toggleable__label-arrow:hover:before {\n  color: var(--sklearn-color-text);\n}\n\n/* Toggleable content - dropdown */\n\n#sk-container-id-1 div.sk-toggleable__content {\n  max-height: 0;\n  max-width: 0;\n  overflow: hidden;\n  text-align: left;\n  /* unfitted */\n  background-color: var(--sklearn-color-unfitted-level-0);\n}\n\n#sk-container-id-1 div.sk-toggleable__content.fitted {\n  /* fitted */\n  background-color: var(--sklearn-color-fitted-level-0);\n}\n\n#sk-container-id-1 div.sk-toggleable__content pre {\n  margin: 0.2em;\n  border-radius: 0.25em;\n  color: var(--sklearn-color-text);\n  /* unfitted */\n  background-color: var(--sklearn-color-unfitted-level-0);\n}\n\n#sk-container-id-1 div.sk-toggleable__content.fitted pre {\n  /* unfitted */\n  background-color: var(--sklearn-color-fitted-level-0);\n}\n\n#sk-container-id-1 input.sk-toggleable__control:checked~div.sk-toggleable__content {\n  /* Expand drop-down */\n  max-height: 200px;\n  max-width: 100%;\n  overflow: auto;\n}\n\n#sk-container-id-1 input.sk-toggleable__control:checked~label.sk-toggleable__label-arrow:before {\n  content: \"▾\";\n}\n\n/* Pipeline/ColumnTransformer-specific style */\n\n#sk-container-id-1 div.sk-label input.sk-toggleable__control:checked~label.sk-toggleable__label {\n  color: var(--sklearn-color-text);\n  background-color: var(--sklearn-color-unfitted-level-2);\n}\n\n#sk-container-id-1 div.sk-label.fitted input.sk-toggleable__control:checked~label.sk-toggleable__label {\n  background-color: var(--sklearn-color-fitted-level-2);\n}\n\n/* Estimator-specific style */\n\n/* Colorize estimator box */\n#sk-container-id-1 div.sk-estimator input.sk-toggleable__control:checked~label.sk-toggleable__label {\n  /* unfitted */\n  background-color: var(--sklearn-color-unfitted-level-2);\n}\n\n#sk-container-id-1 div.sk-estimator.fitted input.sk-toggleable__control:checked~label.sk-toggleable__label {\n  /* fitted */\n  background-color: var(--sklearn-color-fitted-level-2);\n}\n\n#sk-container-id-1 div.sk-label label.sk-toggleable__label,\n#sk-container-id-1 div.sk-label label {\n  /* The background is the default theme color */\n  color: var(--sklearn-color-text-on-default-background);\n}\n\n/* On hover, darken the color of the background */\n#sk-container-id-1 div.sk-label:hover label.sk-toggleable__label {\n  color: var(--sklearn-color-text);\n  background-color: var(--sklearn-color-unfitted-level-2);\n}\n\n/* Label box, darken color on hover, fitted */\n#sk-container-id-1 div.sk-label.fitted:hover label.sk-toggleable__label.fitted {\n  color: var(--sklearn-color-text);\n  background-color: var(--sklearn-color-fitted-level-2);\n}\n\n/* Estimator label */\n\n#sk-container-id-1 div.sk-label label {\n  font-family: monospace;\n  font-weight: bold;\n  display: inline-block;\n  line-height: 1.2em;\n}\n\n#sk-container-id-1 div.sk-label-container {\n  text-align: center;\n}\n\n/* Estimator-specific */\n#sk-container-id-1 div.sk-estimator {\n  font-family: monospace;\n  border: 1px dotted var(--sklearn-color-border-box);\n  border-radius: 0.25em;\n  box-sizing: border-box;\n  margin-bottom: 0.5em;\n  /* unfitted */\n  background-color: var(--sklearn-color-unfitted-level-0);\n}\n\n#sk-container-id-1 div.sk-estimator.fitted {\n  /* fitted */\n  background-color: var(--sklearn-color-fitted-level-0);\n}\n\n/* on hover */\n#sk-container-id-1 div.sk-estimator:hover {\n  /* unfitted */\n  background-color: var(--sklearn-color-unfitted-level-2);\n}\n\n#sk-container-id-1 div.sk-estimator.fitted:hover {\n  /* fitted */\n  background-color: var(--sklearn-color-fitted-level-2);\n}\n\n/* Specification for estimator info (e.g. \"i\" and \"?\") */\n\n/* Common style for \"i\" and \"?\" */\n\n.sk-estimator-doc-link,\na:link.sk-estimator-doc-link,\na:visited.sk-estimator-doc-link {\n  float: right;\n  font-size: smaller;\n  line-height: 1em;\n  font-family: monospace;\n  background-color: var(--sklearn-color-background);\n  border-radius: 1em;\n  height: 1em;\n  width: 1em;\n  text-decoration: none !important;\n  margin-left: 0.5em;\n  text-align: center;\n  /* unfitted */\n  border: var(--sklearn-color-unfitted-level-1) 1pt solid;\n  color: var(--sklearn-color-unfitted-level-1);\n}\n\n.sk-estimator-doc-link.fitted,\na:link.sk-estimator-doc-link.fitted,\na:visited.sk-estimator-doc-link.fitted {\n  /* fitted */\n  border: var(--sklearn-color-fitted-level-1) 1pt solid;\n  color: var(--sklearn-color-fitted-level-1);\n}\n\n/* On hover */\ndiv.sk-estimator:hover .sk-estimator-doc-link:hover,\n.sk-estimator-doc-link:hover,\ndiv.sk-label-container:hover .sk-estimator-doc-link:hover,\n.sk-estimator-doc-link:hover {\n  /* unfitted */\n  background-color: var(--sklearn-color-unfitted-level-3);\n  color: var(--sklearn-color-background);\n  text-decoration: none;\n}\n\ndiv.sk-estimator.fitted:hover .sk-estimator-doc-link.fitted:hover,\n.sk-estimator-doc-link.fitted:hover,\ndiv.sk-label-container:hover .sk-estimator-doc-link.fitted:hover,\n.sk-estimator-doc-link.fitted:hover {\n  /* fitted */\n  background-color: var(--sklearn-color-fitted-level-3);\n  color: var(--sklearn-color-background);\n  text-decoration: none;\n}\n\n/* Span, style for the box shown on hovering the info icon */\n.sk-estimator-doc-link span {\n  display: none;\n  z-index: 9999;\n  position: relative;\n  font-weight: normal;\n  right: .2ex;\n  padding: .5ex;\n  margin: .5ex;\n  width: min-content;\n  min-width: 20ex;\n  max-width: 50ex;\n  color: var(--sklearn-color-text);\n  box-shadow: 2pt 2pt 4pt #999;\n  /* unfitted */\n  background: var(--sklearn-color-unfitted-level-0);\n  border: .5pt solid var(--sklearn-color-unfitted-level-3);\n}\n\n.sk-estimator-doc-link.fitted span {\n  /* fitted */\n  background: var(--sklearn-color-fitted-level-0);\n  border: var(--sklearn-color-fitted-level-3);\n}\n\n.sk-estimator-doc-link:hover span {\n  display: block;\n}\n\n/* \"?\"-specific style due to the `<a>` HTML tag */\n\n#sk-container-id-1 a.estimator_doc_link {\n  float: right;\n  font-size: 1rem;\n  line-height: 1em;\n  font-family: monospace;\n  background-color: var(--sklearn-color-background);\n  border-radius: 1rem;\n  height: 1rem;\n  width: 1rem;\n  text-decoration: none;\n  /* unfitted */\n  color: var(--sklearn-color-unfitted-level-1);\n  border: var(--sklearn-color-unfitted-level-1) 1pt solid;\n}\n\n#sk-container-id-1 a.estimator_doc_link.fitted {\n  /* fitted */\n  border: var(--sklearn-color-fitted-level-1) 1pt solid;\n  color: var(--sklearn-color-fitted-level-1);\n}\n\n/* On hover */\n#sk-container-id-1 a.estimator_doc_link:hover {\n  /* unfitted */\n  background-color: var(--sklearn-color-unfitted-level-3);\n  color: var(--sklearn-color-background);\n  text-decoration: none;\n}\n\n#sk-container-id-1 a.estimator_doc_link.fitted:hover {\n  /* fitted */\n  background-color: var(--sklearn-color-fitted-level-3);\n}\n</style><div id=\"sk-container-id-1\" class=\"sk-top-container\"><div class=\"sk-text-repr-fallback\"><pre>MultiOutputRegressor(estimator=RandomForestRegressor(random_state=42))</pre><b>In a Jupyter environment, please rerun this cell to show the HTML representation or trust the notebook. <br />On GitHub, the HTML representation is unable to render, please try loading this page with nbviewer.org.</b></div><div class=\"sk-container\" hidden><div class=\"sk-item sk-dashed-wrapped\"><div class=\"sk-label-container\"><div class=\"sk-label fitted sk-toggleable\"><input class=\"sk-toggleable__control sk-hidden--visually\" id=\"sk-estimator-id-1\" type=\"checkbox\" ><label for=\"sk-estimator-id-1\" class=\"sk-toggleable__label fitted sk-toggleable__label-arrow\"><div><div>MultiOutputRegressor</div></div><div><a class=\"sk-estimator-doc-link fitted\" rel=\"noreferrer\" target=\"_blank\" href=\"https://scikit-learn.org/1.6/modules/generated/sklearn.multioutput.MultiOutputRegressor.html\">?<span>Documentation for MultiOutputRegressor</span></a><span class=\"sk-estimator-doc-link fitted\">i<span>Fitted</span></span></div></label><div class=\"sk-toggleable__content fitted\"><pre>MultiOutputRegressor(estimator=RandomForestRegressor(random_state=42))</pre></div> </div></div><div class=\"sk-parallel\"><div class=\"sk-parallel-item\"><div class=\"sk-item\"><div class=\"sk-label-container\"><div class=\"sk-label fitted sk-toggleable\"><input class=\"sk-toggleable__control sk-hidden--visually\" id=\"sk-estimator-id-2\" type=\"checkbox\" ><label for=\"sk-estimator-id-2\" class=\"sk-toggleable__label fitted sk-toggleable__label-arrow\"><div><div>estimator: RandomForestRegressor</div></div></label><div class=\"sk-toggleable__content fitted\"><pre>RandomForestRegressor(random_state=42)</pre></div> </div></div><div class=\"sk-serial\"><div class=\"sk-item\"><div class=\"sk-estimator fitted sk-toggleable\"><input class=\"sk-toggleable__control sk-hidden--visually\" id=\"sk-estimator-id-3\" type=\"checkbox\" ><label for=\"sk-estimator-id-3\" class=\"sk-toggleable__label fitted sk-toggleable__label-arrow\"><div><div>RandomForestRegressor</div></div><div><a class=\"sk-estimator-doc-link fitted\" rel=\"noreferrer\" target=\"_blank\" href=\"https://scikit-learn.org/1.6/modules/generated/sklearn.ensemble.RandomForestRegressor.html\">?<span>Documentation for RandomForestRegressor</span></a></div></label><div class=\"sk-toggleable__content fitted\"><pre>RandomForestRegressor(random_state=42)</pre></div> </div></div></div></div></div></div></div></div></div>"
          },
          "metadata": {}
        }
      ],
      "execution_count": 22
    },
    {
      "id": "3108e016-3287-4acf-ad86-b8109c83f4e0",
      "cell_type": "code",
      "source": "y_pred = model.predict(X_test)",
      "metadata": {
        "trusted": true
      },
      "outputs": [],
      "execution_count": 23
    },
    {
      "id": "370d6bf7-7892-4ca4-92ff-c85c674818a1",
      "cell_type": "code",
      "source": "print(\"Model Performance on the Test Data:\")\nfor i, pollutant in enumerate(pollutants):\n    print(f'{pollutant}:')\n    print('   MSE:', mean_squared_error(y_test.iloc[:, i], y_pred[:, i]))\n    print('   R2:', r2_score(y_test.iloc[:, i], y_pred[:, i]))\n    print()",
      "metadata": {
        "trusted": true
      },
      "outputs": [
        {
          "name": "stdout",
          "output_type": "stream",
          "text": "Model Performance on the Test Data:\nO2:\n   MSE: 22.21825046040189\n   R2: -0.01674257045728833\n\nNO3:\n   MSE: 18.153106746365886\n   R2: 0.5162032171220556\n\nNO2:\n   MSE: 10.607352172601502\n   R2: -78.42066512350873\n\nSO4:\n   MSE: 2412.139350033052\n   R2: 0.4118345603876148\n\nPO4:\n   MSE: 0.38496938017964155\n   R2: 0.3221189891402043\n\nCL:\n   MSE: 34882.81433245622\n   R2: 0.7357918194149974\n\n"
        }
      ],
      "execution_count": 24
    },
    {
      "id": "a4e7c0f5-48cd-46ee-affd-7ed7549a491f",
      "cell_type": "code",
      "source": "station_id = '22'\nyear_input = 2027\n\ninput_data = pd.DataFrame({'year': [year_input], 'id': [station_id]})\ninput_encoded = pd.get_dummies(input_data, columns=['id'])\n\n# Align with training feature columns\nmissing_cols = set(X_encoded.columns) - set(input_encoded.columns)\nfor col in missing_cols:\n    input_encoded[col] = 0\ninput_encoded = input_encoded[X_encoded.columns]  # reorder columns\n\n# Predict pollutants\npredicted_pollutants = model.predict(input_encoded)[0]\n\nprint(f\"\\nPredicted pollutant levels for station '{station_id}' in {year_input}:\")\nfor p, val in zip(pollutants, predicted_pollutants):\n    print(f\"  {p}: {val:.2f}\")",
      "metadata": {
        "trusted": true
      },
      "outputs": [
        {
          "name": "stdout",
          "output_type": "stream",
          "text": "\nPredicted pollutant levels for station '22' in 2027:\n  O2: 12.60\n  NO3: 6.90\n  NO2: 0.13\n  SO4: 143.08\n  PO4: 0.50\n  CL: 67.33\n"
        }
      ],
      "execution_count": 26
    },
    {
      "id": "4ea6d980-0047-49f3-8eb5-dfeb3daf635b",
      "cell_type": "code",
      "source": "import joblib\n\njoblib.dump(model, 'pollution_model.pkl')\njoblib.dump(X_encoded.columns.tolist(), \"model_columns.pkl\")\nprint('Model and cols structure are saved!')",
      "metadata": {
        "trusted": true
      },
      "outputs": [
        {
          "ename": "<class 'NameError'>",
          "evalue": "name 'model' is not defined",
          "traceback": [
            "\u001b[0;31m---------------------------------------------------------------------------\u001b[0m",
            "\u001b[0;31mNameError\u001b[0m                                 Traceback (most recent call last)",
            "Cell \u001b[0;32mIn[1], line 3\u001b[0m\n\u001b[1;32m      1\u001b[0m \u001b[38;5;28;01mimport\u001b[39;00m \u001b[38;5;21;01mjoblib\u001b[39;00m\n\u001b[0;32m----> 3\u001b[0m joblib\u001b[38;5;241m.\u001b[39mdump(\u001b[43mmodel\u001b[49m, \u001b[38;5;124m'\u001b[39m\u001b[38;5;124mpollution_model.pkl\u001b[39m\u001b[38;5;124m'\u001b[39m)\n\u001b[1;32m      4\u001b[0m joblib\u001b[38;5;241m.\u001b[39mdump(X_encoded\u001b[38;5;241m.\u001b[39mcolumns\u001b[38;5;241m.\u001b[39mtolist(), \u001b[38;5;124m\"\u001b[39m\u001b[38;5;124mmodel_columns.pkl\u001b[39m\u001b[38;5;124m\"\u001b[39m)\n\u001b[1;32m      5\u001b[0m \u001b[38;5;28mprint\u001b[39m(\u001b[38;5;124m'\u001b[39m\u001b[38;5;124mModel and cols structure are saved!\u001b[39m\u001b[38;5;124m'\u001b[39m)\n",
            "\u001b[0;31mNameError\u001b[0m: name 'model' is not defined"
          ],
          "output_type": "error"
        }
      ],
      "execution_count": 1
    },
    {
      "id": "f0923297-1a67-4d7f-95bf-3756f1976471",
      "cell_type": "code",
      "source": "",
      "metadata": {
        "trusted": true
      },
      "outputs": [],
      "execution_count": null
    }
  ]
}